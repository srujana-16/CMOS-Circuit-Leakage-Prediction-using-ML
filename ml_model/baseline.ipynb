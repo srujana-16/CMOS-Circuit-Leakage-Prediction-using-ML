{
 "cells": [
  {
   "cell_type": "code",
   "execution_count": 15,
   "metadata": {},
   "outputs": [],
   "source": [
    "import numpy as np\n",
    "import pandas as pd\n",
    "from sklearn.linear_model import LinearRegression\n",
    "from sklearn.metrics import mean_squared_error, r2_score\n",
    "from sklearn.preprocessing import StandardScaler\n",
    "from sklearn.model_selection import train_test_split"
   ]
  },
  {
   "cell_type": "code",
   "execution_count": 16,
   "metadata": {},
   "outputs": [],
   "source": [
    "# Load and preprocess data\n",
    "df = pd.read_csv('../22_HP/outputs/simulation_results_not.csv')\n",
    "df = df.drop(columns=['delay_LH_NodeA', 'delay_HL_NodeA'], axis=1)"
   ]
  },
  {
   "cell_type": "code",
   "execution_count": 17,
   "metadata": {},
   "outputs": [],
   "source": [
    "x = df.drop(columns=['leakage'], axis=1).values\n",
    "y = df['leakage'].values"
   ]
  },
  {
   "cell_type": "code",
   "execution_count": 18,
   "metadata": {},
   "outputs": [],
   "source": [
    "scaler = StandardScaler()\n",
    "x_scaled = scaler.fit_transform(df.drop('leakage', axis=1).values)\n",
    "y_scaled = scaler.fit_transform(df['leakage'].values.reshape(-1, 1))"
   ]
  },
  {
   "cell_type": "markdown",
   "metadata": {},
   "source": [
    "### Scaling"
   ]
  },
  {
   "cell_type": "code",
   "execution_count": 19,
   "metadata": {},
   "outputs": [],
   "source": [
    "\n",
    "def train_and_test(x, y):\n",
    "    # Split data into training and testing sets\n",
    "    x_train, x_test, y_train, y_test = train_test_split(x, y, test_size=0.2, random_state=42)\n",
    "\n",
    "    # Initialize and train the linear regression model\n",
    "    regression_model = LinearRegression()\n",
    "    regression_model.fit(x_train, y_train)\n",
    "\n",
    "    # Make predictions on the test set\n",
    "    y_pred = regression_model.predict(x_test)\n",
    "    # y_pred = scaler.fit_transform(y_pred).reshape(-1, 1)\n",
    "    # Evaluate the model\n",
    "    mse = mean_squared_error(y_test, y_pred)\n",
    "    r2 = r2_score(y_test, y_pred)\n",
    "\n",
    "    return mse, r2"
   ]
  },
  {
   "cell_type": "code",
   "execution_count": 20,
   "metadata": {},
   "outputs": [],
   "source": [
    "mse_unscaled, r2_unscaled = train_and_test(x, y)"
   ]
  },
  {
   "cell_type": "code",
   "execution_count": 21,
   "metadata": {},
   "outputs": [
    {
     "name": "stdout",
     "output_type": "stream",
     "text": [
      "Unscaled Data - Baseline Model Performance:\n",
      "Mean Squared Error: 3.489941919742469e-17\n",
      "R2 Score: 0.20045982187241806\n"
     ]
    }
   ],
   "source": [
    "print(\"Unscaled Data - Baseline Model Performance:\")\n",
    "print(\"Mean Squared Error:\", mse_unscaled)\n",
    "print(\"R2 Score:\", r2_unscaled)"
   ]
  },
  {
   "cell_type": "code",
   "execution_count": 22,
   "metadata": {},
   "outputs": [
    {
     "name": "stdout",
     "output_type": "stream",
     "text": [
      "\n",
      "Scaled Data - Baseline Model Performance:\n",
      "Mean Squared Error: 0.42395058290271154\n",
      "R2 Score: 0.5743556712338156\n"
     ]
    }
   ],
   "source": [
    "mse_scaled, r2_scaled = train_and_test(x_scaled, y_scaled)\n",
    "print(\"\\nScaled Data - Baseline Model Performance:\")\n",
    "print(\"Mean Squared Error:\", mse_scaled)\n",
    "print(\"R2 Score:\", r2_scaled)"
   ]
  },
  {
   "cell_type": "code",
   "execution_count": 23,
   "metadata": {},
   "outputs": [],
   "source": [
    "def train_and_test_2(x, y):\n",
    "    # Split data into training and testing sets\n",
    "    x_train, x_test, y_train, y_test = train_test_split(x, y, test_size=0.2, random_state=42)\n",
    "\n",
    "    # Initialize and train the linear regression model\n",
    "    regression_model = LinearRegression()\n",
    "    regression_model.fit(x_train, y_train)\n",
    "\n",
    "    # Make predictions on the test set\n",
    "    y_pred = regression_model.predict(x_test)\n",
    "    y_pred = scaler.fit_transform(y_pred).reshape(-1, 1)\n",
    "    # Evaluate the model\n",
    "    mse = mean_squared_error(y_test, y_pred)\n",
    "    r2 = r2_score(y_test, y_pred)\n",
    "\n",
    "    return mse, r2"
   ]
  },
  {
   "cell_type": "code",
   "execution_count": 24,
   "metadata": {},
   "outputs": [],
   "source": [
    "mse_scaled, r2_scaled = train_and_test_2(x_scaled, y_scaled)"
   ]
  },
  {
   "cell_type": "code",
   "execution_count": 25,
   "metadata": {},
   "outputs": [
    {
     "name": "stdout",
     "output_type": "stream",
     "text": [
      "\n",
      "Scaled Data - Baseline Model Performance:\n",
      "Mean Squared Error: 0.483274423612126\n",
      "R2 Score: 0.5147948229252632\n"
     ]
    }
   ],
   "source": [
    "print(\"\\nScaled Data - Baseline Model Performance:\")\n",
    "print(\"Mean Squared Error:\", mse_scaled)\n",
    "print(\"R2 Score:\", r2_scaled)"
   ]
  },
  {
   "cell_type": "code",
   "execution_count": 26,
   "metadata": {},
   "outputs": [],
   "source": [
    "def train_and_test_3(x, y):\n",
    "    # Split data into training and testing sets\n",
    "    x_train, x_test, y_train, y_test = train_test_split(x, y, test_size=0.2, random_state=42)\n",
    "\n",
    "    # Initialize and train the linear regression model\n",
    "    regression_model = LinearRegression()\n",
    "    regression_model.fit(x_train, y_train)\n",
    "\n",
    "    # Make predictions on the test set\n",
    "    y_pred = regression_model.predict(x_test)\n",
    "    y_pred = scaler.inverse_transform(y_pred).reshape(-1, 1)\n",
    "    # Evaluate the model\n",
    "    mse = mean_squared_error(y_test, y_pred)\n",
    "    r2 = r2_score(y_test, y_pred)\n",
    "\n",
    "    return mse, r2"
   ]
  },
  {
   "cell_type": "code",
   "execution_count": 27,
   "metadata": {},
   "outputs": [
    {
     "name": "stdout",
     "output_type": "stream",
     "text": [
      "\n",
      "Scaled Data - Baseline Model Performance:\n",
      "Mean Squared Error: 0.4550867484456797\n",
      "R2 Score: 0.543095112061685\n"
     ]
    }
   ],
   "source": [
    "mse_scaled, r2_scaled = train_and_test_3(x_scaled, y_scaled)\n",
    "print(\"\\nScaled Data - Baseline Model Performance:\")\n",
    "print(\"Mean Squared Error:\", mse_scaled)\n",
    "print(\"R2 Score:\", r2_scaled)"
   ]
  }
 ],
 "metadata": {
  "kernelspec": {
   "display_name": "Python 3",
   "language": "python",
   "name": "python3"
  },
  "language_info": {
   "codemirror_mode": {
    "name": "ipython",
    "version": 3
   },
   "file_extension": ".py",
   "mimetype": "text/x-python",
   "name": "python",
   "nbconvert_exporter": "python",
   "pygments_lexer": "ipython3",
   "version": "3.11.5"
  }
 },
 "nbformat": 4,
 "nbformat_minor": 2
}
