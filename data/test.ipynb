{
 "cells": [
  {
   "cell_type": "code",
   "execution_count": 1,
   "metadata": {},
   "outputs": [],
   "source": [
    "import os\n",
    "import numpy as np\n",
    "import pandas as pd\n",
    "\n",
    "file_path = \"sample_dataset.csv\"\n",
    "if not os.path.exists(file_path):\n",
    "\n",
    "    # Generate sample dataset\n",
    "    np.random.seed(42)\n",
    "    n_samples = 10000\n",
    "\n",
    "    data = {\n",
    "        \"Vin_A\": np.random.choice([0.0, 1.0], n_samples),\n",
    "        \"Vin_B\": np.random.choice([0.0, 1.0], n_samples),\n",
    "        \"temp\": np.random.uniform(low=-55, high=125, size=n_samples),\n",
    "        \"pvdd\": np.random.uniform(low=0.9, high=1.1, size=n_samples),\n",
    "        \"cqload\": np.random.uniform(low=0.01, high=5, size=n_samples),\n",
    "        \"toxe_n\": np.random.uniform(low=7.6e-10, high=1.014e-9, size=n_samples),\n",
    "        \"toxm_n\": np.random.uniform(low=7.6e-10, high=1.014e-9, size=n_samples),\n",
    "        \"toxref_n\": np.random.uniform(low=7.6e-10, high=1.014e-9, size=n_samples),\n",
    "        \"toxe_p\": np.random.uniform(low=7.6e-10, high=1.014e-9, size=n_samples),\n",
    "        \"toxm_p\": np.random.uniform(low=7.6e-10, high=1.014e-9, size=n_samples),\n",
    "        \"toxref_p\": np.random.uniform(low=7.6e-10, high=1.014e-9, size=n_samples),\n",
    "        \"toxp_par\": np.random.uniform(low=5.7e-10, high=7.4e-10, size=n_samples),\n",
    "        \"xj_n\": np.random.uniform(low=1.173e-8, high=1.58e-8, size=n_samples),\n",
    "        \"xj_p\": np.random.uniform(low=1.173e-8, high=1.58e-8, size=n_samples),\n",
    "        \"ndep_n\": np.random.uniform(low=5.739e+18, high=7.419e+18, size=n_samples),\n",
    "        \"ndep_p\": np.random.uniform(low=2.435e+18, high=3.151e+18, size=n_samples),\n",
    "        \"leakage\": np.random.uniform(low=1.688666e-8, high=1.4344859738569972e-8, size=n_samples),\n",
    "        \"delay\": np.random.uniform(low=0, high=10, size=n_samples)  # Assuming delay range is from 0 to 10\n",
    "    }\n",
    "\n",
    "    df = pd.DataFrame(data)\n",
    "    df.to_csv(file_path, index=False)\n",
    "else:\n",
    "    print(f\"The file {file_path} already exists.\")\n"
   ]
  }
 ],
 "metadata": {
  "kernelspec": {
   "display_name": "env",
   "language": "python",
   "name": "python3"
  },
  "language_info": {
   "codemirror_mode": {
    "name": "ipython",
    "version": 3
   },
   "file_extension": ".py",
   "mimetype": "text/x-python",
   "name": "python",
   "nbconvert_exporter": "python",
   "pygments_lexer": "ipython3",
   "version": "3.12.2"
  }
 },
 "nbformat": 4,
 "nbformat_minor": 2
}
